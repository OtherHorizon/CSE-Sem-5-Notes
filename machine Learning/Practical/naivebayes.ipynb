{
  "metadata": {
    "language_info": {
      "codemirror_mode": {
        "name": "python",
        "version": 3
      },
      "file_extension": ".py",
      "mimetype": "text/x-python",
      "name": "python",
      "nbconvert_exporter": "python",
      "pygments_lexer": "ipython3",
      "version": "3.8"
    },
    "kernelspec": {
      "name": "python",
      "display_name": "Python (Pyodide)",
      "language": "python"
    }
  },
  "nbformat_minor": 4,
  "nbformat": 4,
  "cells": [
    {
      "cell_type": "code",
      "source": "import pandas as pd\nfrom sklearn.datasets import load_iris\nfrom sklearn.model_selection import train_test_split\nfrom sklearn.naive_bayes import GaussianNB\nfrom sklearn.metrics import classification_report\niris=load_iris()\niris.DESCR\ndf=pd.DataFrame(iris.data,columns=iris.feature_names)\ndf[\"target\"]=iris.target\nx=df.drop([\"target\"],axis=\"columns\")\ny=df.target\nx_train,x_test,y_train,y_test=train_test_split(x,y,test_size=0.19)\nmodel=GaussianNB()\nmodel.fit(x_train,y_train)\nmodel.score(x_test,y_test)\ny_pred=model.predict(x_test)\nprint(y_pred,y_test)\nprint(classification_report(y_pred,y_test))",
      "metadata": {
        "trusted": true
      },
      "execution_count": 1,
      "outputs": [
        {
          "name": "stdout",
          "text": "[2 2 0 0 2 1 1 2 2 2 1 2 2 1 0 1 0 1 1 0 2 0 0 1 1 2 1 1 2] 126    2\n139    2\n34     0\n12     0\n122    2\n73     1\n57     1\n144    2\n140    2\n77     1\n56     1\n136    2\n114    2\n93     1\n31     0\n97     1\n21     0\n134    2\n67     1\n35     0\n143    2\n14     0\n30     0\n106    2\n89     1\n116    2\n91     1\n80     1\n146    2\nName: target, dtype: int32\n              precision    recall  f1-score   support\n\n           0       1.00      1.00      1.00         7\n           1       0.90      0.82      0.86        11\n           2       0.83      0.91      0.87        11\n\n    accuracy                           0.90        29\n   macro avg       0.91      0.91      0.91        29\nweighted avg       0.90      0.90      0.90        29\n\n",
          "output_type": "stream"
        }
      ]
    },
    {
      "cell_type": "code",
      "source": "\n",
      "metadata": {},
      "execution_count": null,
      "outputs": []
    }
  ]
}