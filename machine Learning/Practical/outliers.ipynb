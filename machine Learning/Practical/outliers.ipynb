{
 "cells": [
  {
   "cell_type": "code",
   "execution_count": 23,
   "metadata": {},
   "outputs": [
    {
     "data": {
      "image/png": "[encoded data removed]",
      "text/plain": [
       "<Figure size 432x288 with 3 Axes>"
      ]
     },
     "metadata": {
      "needs_background": "light"
     },
     "output_type": "display_data"
    }
   ],
   "source": [
    "import matplotlib.pyplot as plt\n",
    "import numpy as np\n",
    "data = np.array([1,2,3,4,5,6,7,8,9,10,11,12,13,14,15])\n",
    "data1 = np.array([1,2,3,4,5,6,7,8,9,10,11,12,23,24,55])\n",
    "data2 = np.array([1,2,3,4,5,6,7,8,9,10,11,12,13,14,15,24])\n",
    "\n",
    "plt.subplot(1,3,1)\n",
    "plt.boxplot(data)\n",
    "plt.subplot(1,3,2)\n",
    "plt.boxplot(data1)\n",
    "plt.subplot(1,3,3)\n",
    "plt.boxplot(data2)\n",
    "plt.show()"
   ]
  }
 ],
 "metadata": {
  "kernelspec": {
   "display_name": "Python 3.10.5 64-bit",
   "language": "python",
   "name": "python3"
  },
  "language_info": {
   "codemirror_mode": {
    "name": "ipython",
    "version": 3
   },
   "file_extension": ".py",
   "mimetype": "text/x-python",
   "name": "python",
   "nbconvert_exporter": "python",
   "pygments_lexer": "ipython3",
   "version": "3.10.6"
  },
  "orig_nbformat": 4,
  "vscode": {
   "interpreter": {
    "hash": "e7370f93d1d0cde622a1f8e1c04877d8463912d04d973331ad4851f04de6915a"
   }
  }
 },
 "nbformat": 4,
 "nbformat_minor": 2
}
